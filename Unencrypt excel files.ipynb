{
 "cells": [
  {
   "cell_type": "code",
   "execution_count": 15,
   "metadata": {},
   "outputs": [],
   "source": [
    "import numpy as np\n",
    "import pandas as pd\n",
    "\n",
    "import os, sys\n",
    "import win32com.client\n",
    "\n",
    "#Define fuction to unencrypt the file\n",
    "\n",
    "def Remove_password_xlsx(filename, pw_str):\n",
    "    xcl = win32com.client.Dispatch(\"Excel.Application\")\n",
    "    wb = xcl.Workbooks.Open(filename, False, False, None, pw_str)\n",
    "    xcl.DisplayAlerts = False\n",
    "    wb.SaveAs(filename, None, '', '')\n",
    "    xcl.Quit()\n",
    "    \n",
    "    \n"
   ]
  },
  {
   "cell_type": "code",
   "execution_count": 32,
   "metadata": {},
   "outputs": [],
   "source": [
    "directory = r'directory path'\n",
    "pw = 'password'\n",
    "\n",
    "#files = os.listdir(directory)\n",
    "#files"
   ]
  },
  {
   "cell_type": "code",
   "execution_count": 31,
   "metadata": {},
   "outputs": [],
   "source": [
    "for file in  os.listdir(directory):\n",
    "    filepath = directory + '\\\\' + file\n",
    "    if '.xls' in file:\n",
    "        Remove_password_xlsx(filepath, pw)\n",
    "        pd.read_excel(filepath).to_csv(directory + '\\\\' + file.split('.xls')[0]+'.csv', index=False)\n",
    "    "
   ]
  }
 ],
 "metadata": {
  "kernelspec": {
   "display_name": "Python 3",
   "language": "python",
   "name": "python3"
  },
  "language_info": {
   "codemirror_mode": {
    "name": "ipython",
    "version": 3
   },
   "file_extension": ".py",
   "mimetype": "text/x-python",
   "name": "python",
   "nbconvert_exporter": "python",
   "pygments_lexer": "ipython3",
   "version": "3.7.0"
  }
 },
 "nbformat": 4,
 "nbformat_minor": 2
}
